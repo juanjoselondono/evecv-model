{
 "cells": [
  {
   "cell_type": "code",
   "execution_count": 2,
   "metadata": {},
   "outputs": [
    {
     "ename": "AttributeError",
     "evalue": "'VideoStream' object has no attribute 'read'",
     "output_type": "error",
     "traceback": [
      "\u001b[0;31m---------------------------------------------------------------------------\u001b[0m",
      "\u001b[0;31mAttributeError\u001b[0m                            Traceback (most recent call last)",
      "Cell \u001b[0;32mIn[2], line 60\u001b[0m\n\u001b[1;32m     57\u001b[0m \u001b[38;5;66;03m# Bucle principal\u001b[39;00m\n\u001b[1;32m     58\u001b[0m \u001b[38;5;28;01mwhile\u001b[39;00m \u001b[38;5;28;01mTrue\u001b[39;00m:\n\u001b[1;32m     59\u001b[0m     \u001b[38;5;66;03m# Obtener fotograma del video stream\u001b[39;00m\n\u001b[0;32m---> 60\u001b[0m     frame \u001b[38;5;241m=\u001b[39m \u001b[43mvideo_stream\u001b[49m\u001b[38;5;241;43m.\u001b[39;49m\u001b[43mread\u001b[49m()\n\u001b[1;32m     62\u001b[0m     \u001b[38;5;66;03m# Resto del código de detección de objetos ...\u001b[39;00m\n\u001b[1;32m     63\u001b[0m \n\u001b[1;32m     64\u001b[0m     \u001b[38;5;66;03m# Mostrar el fotograma procesado con los cuadros y etiquetas\u001b[39;00m\n\u001b[1;32m     65\u001b[0m     cv2\u001b[38;5;241m.\u001b[39mimshow(\u001b[38;5;124m'\u001b[39m\u001b[38;5;124mObject Detection\u001b[39m\u001b[38;5;124m'\u001b[39m, frame)\n",
      "\u001b[0;31mAttributeError\u001b[0m: 'VideoStream' object has no attribute 'read'"
     ]
    }
   ],
   "source": [
    "import cv2\n",
    "import numpy as np\n",
    "import urllib.request\n",
    "import importlib.util\n",
    "from threading import Thread\n",
    "\n",
    "# Configuración y carga del modelo de detección de objetos\n",
    "\n",
    "MODEL_NAME = './detection_model'  # Ruta al directorio que contiene el modelo\n",
    "GRAPH_NAME = 'detect.tflite'  # Nombre del archivo del modelo\n",
    "LABELMAP_NAME = 'label_map.pbtxt'  # Nombre del archivo del mapeo de etiquetas\n",
    "min_conf_threshold = 0.5  # Umbral de confianza mínima para mostrar objetos detectados\n",
    "\n",
    "# Resto del código de configuración y carga del modelo ...\n",
    "\n",
    "# Clase para manejar el video stream desde la webcam o el móvil\n",
    "\n",
    "class VideoStream:\n",
    "    def __init__(self, url):\n",
    "        self.stream = urllib.request.urlopen(url)\n",
    "        self.bytes = b''\n",
    "        self.stopped = False\n",
    "\n",
    "    def start(self):\n",
    "        Thread(target=self.update, args=()).start()\n",
    "        return self\n",
    "\n",
    "    def update(self):\n",
    "        while True:\n",
    "            if self.stopped:\n",
    "                return\n",
    "            self.bytes += self.stream.read(1024)\n",
    "            a = self.bytes.find(b'\\xff\\xd8')\n",
    "            b = self.bytes.find(b'\\xff\\xd9')\n",
    "            if a != -1 and b != -1:\n",
    "                jpg = self.bytes[a:b + 2]\n",
    "                self.bytes = self.bytes[b + 2:]\n",
    "                frame = cv2.imdecode(np.frombuffer(jpg, dtype=np.uint8), cv2.IMREAD_COLOR)\n",
    "                frame_resized = cv2.resize(frame, (width, height))\n",
    "                input_data = np.expand_dims(frame_resized, axis=0)\n",
    "                # Resto del código de detección de objetos ...\n",
    "                # Dibujar cuadros y etiquetas en el fotograma frame ...\n",
    "                cv2.imshow('Object Detection', frame)\n",
    "                if cv2.waitKey(1) == ord('q'):\n",
    "                    self.stopped = True\n",
    "                    break\n",
    "\n",
    "    def stop(self):\n",
    "        self.stopped = True\n",
    "\n",
    "# Resto del código de configuración y carga del modelo ...\n",
    "\n",
    "# Inicializar video stream\n",
    "stream_url = 'http://192.168.192.19:8080/?action=stream'  # URL del stream de vídeo\n",
    "video_stream = VideoStream(stream_url).start()\n",
    "\n",
    "# Bucle principal\n",
    "while True:\n",
    "    # Obtener el fotograma actual del video stream\n",
    "    frame = video_stream.frame.copy()\n",
    "\n",
    "    # Realizar la detección de objetos y dibujar cuadros y etiquetas\n",
    "    # ...\n",
    "    # Código de detección de objetos\n",
    "\n",
    "    # Mostrar el fotograma con los cuadros y etiquetas\n",
    "    cv2.imshow('Object Detection', frame)\n",
    "\n",
    "    # Salir del bucle si se presiona la tecla 'q'\n",
    "    if cv2.waitKey(1) == ord('q'):\n",
    "        break\n",
    "\n",
    "# Limpiar y cerrar el video stream\n",
    "video_stream.stop()\n",
    "cv2.destroyAllWindows()\n",
    "\n"
   ]
  }
 ],
 "metadata": {
  "kernelspec": {
   "display_name": "Python 3.10.6 64-bit",
   "language": "python",
   "name": "python3"
  },
  "language_info": {
   "codemirror_mode": {
    "name": "ipython",
    "version": 3
   },
   "file_extension": ".py",
   "mimetype": "text/x-python",
   "name": "python",
   "nbconvert_exporter": "python",
   "pygments_lexer": "ipython3",
   "version": "3.10.6"
  },
  "orig_nbformat": 4,
  "vscode": {
   "interpreter": {
    "hash": "916dbcbb3f70747c44a77c7bcd40155683ae19c65e1c03b4aa3499c5328201f1"
   }
  }
 },
 "nbformat": 4,
 "nbformat_minor": 2
}
